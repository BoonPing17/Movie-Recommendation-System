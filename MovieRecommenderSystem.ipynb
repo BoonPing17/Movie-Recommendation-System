{
 "cells": [
  {
   "cell_type": "code",
   "execution_count": 4,
   "id": "45375965-8d17-43ec-8577-a19ea37deaf5",
   "metadata": {},
   "outputs": [],
   "source": [
    "import numpy as np\n",
    "import pandas as pd\n",
    "import sklearn\n",
    "import matplotlib.pyplot as plt\n",
    "import seaborn as sns\n",
    "import warnings\n",
    "warnings.simplefilter(action='ignore', category=FutureWarning)"
   ]
  },
  {
   "cell_type": "code",
   "execution_count": 5,
   "id": "f70858dd-26ae-426c-aeb6-1d42c2b00cb4",
   "metadata": {},
   "outputs": [
    {
     "name": "stdout",
     "output_type": "stream",
     "text": [
      "   userId  movieId  rating  timestamp\n",
      "0       1        1     4.0  964982703\n",
      "1       1        3     4.0  964981247\n",
      "2       1        6     4.0  964982224\n",
      "3       1       47     5.0  964983815\n",
      "4       1       50     5.0  964982931\n"
     ]
    }
   ],
   "source": [
    "#loading rating dataset\n",
    "ratings = pd.read_csv(\"C://Users/BoonPing/Desktop/Project/Machine Learning/Movie Recommender System/ratings.csv\")\n",
    "print(ratings.head())"
   ]
  },
  {
   "cell_type": "code",
   "execution_count": 7,
   "id": "ab0c20d8-b008-4384-9fed-c36994be70db",
   "metadata": {},
   "outputs": [
    {
     "name": "stdout",
     "output_type": "stream",
     "text": [
      "   movieId                               title  \\\n",
      "0        1                    Toy Story (1995)   \n",
      "1        2                      Jumanji (1995)   \n",
      "2        3             Grumpier Old Men (1995)   \n",
      "3        4            Waiting to Exhale (1995)   \n",
      "4        5  Father of the Bride Part II (1995)   \n",
      "\n",
      "                                        genres  \n",
      "0  Adventure|Animation|Children|Comedy|Fantasy  \n",
      "1                   Adventure|Children|Fantasy  \n",
      "2                               Comedy|Romance  \n",
      "3                         Comedy|Drama|Romance  \n",
      "4                                       Comedy  \n"
     ]
    }
   ],
   "source": [
    "#loading movie dataset\n",
    "movies = pd.read_csv(\"C://Users/BoonPing/Desktop/Project/Machine Learning/Movie Recommender System/movies.csv\")\n",
    "print(movies.head())"
   ]
  },
  {
   "cell_type": "code",
   "execution_count": 8,
   "id": "445ac640-019c-4074-a5b7-ec8123c6988e",
   "metadata": {},
   "outputs": [
    {
     "name": "stdout",
     "output_type": "stream",
     "text": [
      "Number of ratings: 100836\n",
      "Number of unique movieId: 9724\n",
      "Number of unique users: 610\n",
      "Average ratings per user: 165.3\n",
      "Average ratings per movie: (10, 2)\n"
     ]
    }
   ],
   "source": [
    "n_ratings = len(ratings)\n",
    "n_movies = len(ratings['movieId'].unique())\n",
    "n_users = len(ratings['userId'].unique())\n",
    "\n",
    "print(f\"Number of ratings: {n_ratings}\")\n",
    "print(f\"Number of unique movieId: {n_movies}\")\n",
    "print(f\"Number of unique users: {n_users}\")\n",
    "print(f\"Average ratings per user: {round(n_ratings/n_users, 2)}\")\n",
    "print(f\"Average ratings per movie: {round(n_ratings/n_movies), 2}\")"
   ]
  },
  {
   "cell_type": "code",
   "execution_count": 10,
   "id": "51141b51-393a-43fa-871f-ae4e12ec1c45",
   "metadata": {},
   "outputs": [
    {
     "name": "stdout",
     "output_type": "stream",
     "text": [
      "   userId  n_ratings\n",
      "0       1        232\n",
      "1       2         29\n",
      "2       3         39\n",
      "3       4        216\n",
      "4       5         44\n"
     ]
    }
   ],
   "source": [
    "user_freq = ratings[['userId', 'movieId']].groupby('userId').count().reset_index()\n",
    "user_freq.columns = ['userId','n_ratings']\n",
    "print(user_freq.head())"
   ]
  },
  {
   "cell_type": "code",
   "execution_count": 32,
   "id": "d3e7a6ee-308d-4b31-8bb8-289288dc78d3",
   "metadata": {},
   "outputs": [],
   "source": [
    "#Find lowest and highest rated movies:\n",
    "mean_rating = ratings.groupby('movieId')[['rating']].mean()\n",
    "\n",
    "#Lowest rated movies\n",
    "lowest_rated = mean_rating['rating'].idxmin()\n",
    "lowest_movie_info = movies[movies['movieId'] == lowest_rated]\n",
    "\n",
    "#Highest rated movies\n",
    "highest_rated = mean_rating['rating'].idxmax()\n",
    "highest_movie_info = movies.loc[movies['movieId'] == highest_rated]\n",
    "\n",
    "#show number of people who rated movies rated movie highest\n",
    "highest_rated_count = ratings[ratings['movieId'] == highest_rated].shape[0]\n",
    "\n",
    "#show number of people who rated movies rated movie lowest\n",
    "lowest_rated_count = ratings[ratings['movieId'] == lowest_rated].shape[0]\n",
    "\n",
    "#the above movies has very low dataset. We will use bayesian average\n",
    "movie_stats = ratings.groupby('movieId')[['rating']].agg(['count','mean'])\n",
    "movie_stats.columns = movie_stats.columns.droplevel()"
   ]
  },
  {
   "cell_type": "code",
   "execution_count": 33,
   "id": "e6374753-7c6d-4225-aba1-a791fa2c37bd",
   "metadata": {},
   "outputs": [
    {
     "name": "stdout",
     "output_type": "stream",
     "text": [
      "Lowest Rated Movie:\n",
      "      movieId         title   genres\n",
      "2689     3604  Gypsy (1962)  Musical\n",
      "\n",
      "Highest Rated Movie:\n",
      "    movieId            title           genres\n",
      "48       53  Lamerica (1994)  Adventure|Drama\n"
     ]
    }
   ],
   "source": [
    "print(\"Lowest Rated Movie:\")\n",
    "print(lowest_movie_info)\n",
    "print(\"\\nHighest Rated Movie:\")\n",
    "print(highest_movie_info)"
   ]
  },
  {
   "cell_type": "code",
   "execution_count": 34,
   "id": "39d53a75-0550-4c0f-9708-d389136bba3f",
   "metadata": {},
   "outputs": [
    {
     "name": "stdout",
     "output_type": "stream",
     "text": [
      "\n",
      "Number of people who rated the lowest rated movie: 1\n",
      "Number of people who rated the highest rated movie: 2\n"
     ]
    }
   ],
   "source": [
    "print(\"\\nNumber of people who rated the lowest rated movie:\", lowest_rated_count)\n",
    "print(\"Number of people who rated the highest rated movie:\", highest_rated_count)"
   ]
  },
  {
   "cell_type": "code",
   "execution_count": 35,
   "id": "e8ec30b6-0dae-492c-a8e8-4ad6111a04ee",
   "metadata": {},
   "outputs": [],
   "source": [
    "#Create user-item matrix using scipy csr matrix\n",
    "from scipy.sparse import csr_matrix"
   ]
  },
  {
   "cell_type": "code",
   "execution_count": 37,
   "id": "d6fc78e4-045c-444e-877a-9aa787c342f4",
   "metadata": {},
   "outputs": [],
   "source": [
    "def create_matrix(df):\n",
    "\n",
    "    N = len(df['userId'].unique())\n",
    "    M = len(df['movieId'].unique())\n",
    "\n",
    "    #Map Ids to indices\n",
    "    user_mapper = dict(zip(np.unique(df['userId']), list(range(N))))\n",
    "    movie_mapper = dict(zip(np.unique(df['movieId']), list(range(M))))\n",
    "\n",
    "    #Map indices to IDs\n",
    "    user_inv_mapper = dict(zip(list(range(N)), np.unique(df['userId'])))\n",
    "    movie_inv_mapper = dict(zip(list(range(M)), np.unique(df['movieId'])))\n",
    "\n",
    "    user_index = [user_mapper[i] for i in df['userId']]\n",
    "    movie_index = [movie_mapper[i] for i in df['movieId']]\n",
    "\n",
    "    X = csr_matrix((df['rating'], (movie_index, user_index)), shape = (M,N))\n",
    "\n",
    "    return X, user_mapper, movie_mapper, user_inv_mapper, movie_inv_mapper\n",
    "\n",
    "X, user_mapper, movie_mapper, user_inv_mapper, movie_inv_mapper = create_matrix(ratings)"
   ]
  },
  {
   "cell_type": "code",
   "execution_count": 40,
   "id": "e4ef99dc-4265-4862-9506-a23c33609ca5",
   "metadata": {},
   "outputs": [],
   "source": [
    "from sklearn.neighbors import NearestNeighbors"
   ]
  },
  {
   "cell_type": "code",
   "execution_count": 42,
   "id": "5be12844-fe87-49db-97ca-2c7ed5703c06",
   "metadata": {},
   "outputs": [
    {
     "name": "stdout",
     "output_type": "stream",
     "text": [
      "Since you watched Grumpier Old Men (1995)\n",
      "Grumpy Old Men (1993)\n",
      "Striptease (1996)\n",
      "Nutty Professor, The (1996)\n",
      "Twister (1996)\n",
      "Father of the Bride Part II (1995)\n",
      "Broken Arrow (1996)\n",
      "Bio-Dome (1996)\n",
      "Truth About Cats & Dogs, The (1996)\n",
      "Sabrina (1995)\n",
      "Birdcage, The (1996)\n"
     ]
    }
   ],
   "source": [
    "#Find similar movies using KNN\n",
    "\n",
    "def find_similar_movies(movie_id, X, k, metric='cosine', show_distance=False):\n",
    "\n",
    "    neighbour_ids = []\n",
    "\n",
    "    movie_ind = movie_mapper[movie_id]\n",
    "    movie_vec = X[movie_ind]\n",
    "    k+=1\n",
    "    kNN = NearestNeighbors(n_neighbors=k, algorithm=\"brute\", metric=metric)\n",
    "    kNN.fit(X)\n",
    "    movie_vec = movie_vec.reshape(1,-1)\n",
    "    neighbour = kNN.kneighbors(movie_vec, return_distance=show_distance)\n",
    "    for i in range(0,k):\n",
    "        n = neighbour.item(i)\n",
    "        neighbour_ids.append(movie_inv_mapper[n])\n",
    "    neighbour_ids.pop(0)\n",
    "    return neighbour_ids\n",
    "\n",
    "movie_titles = dict(zip(movies['movieId'], movies['title']))\n",
    "\n",
    "movie_id = 3\n",
    "\n",
    "similar_ids = find_similar_movies(movie_id, X, k=10)\n",
    "movie_title = movie_titles[movie_id]\n",
    "\n",
    "print(f\"Since you watched {movie_title}\")\n",
    "for i in similar_ids:\n",
    "    print(movie_titles[i])"
   ]
  },
  {
   "cell_type": "code",
   "execution_count": 44,
   "id": "c150f014-8d9e-4b61-b7b7-f22030d59fda",
   "metadata": {},
   "outputs": [],
   "source": [
    "def recommend_movies_for_user(user_id, X, user_mapper, movie_mapper, movie_inv_mapper, k=10):\n",
    "    df1 = ratings[ratings['userId'] == user_id]\n",
    "     \n",
    "    if df1.empty:\n",
    "        print(f\"User with ID {user_id} does not exist.\")\n",
    "        return\n",
    " \n",
    "    movie_id = df1[df1['rating'] == max(df1['rating'])]['movieId'].iloc[0]\n",
    " \n",
    "    movie_titles = dict(zip(movies['movieId'], movies['title']))\n",
    " \n",
    "    similar_ids = find_similar_movies(movie_id, X, k)\n",
    "    movie_title = movie_titles.get(movie_id, \"Movie not found\")\n",
    " \n",
    "    if movie_title == \"Movie not found\":\n",
    "        print(f\"Movie with ID {movie_id} not found.\")\n",
    "        return\n",
    " \n",
    "    print(f\"Since you watched {movie_title}, you might also like:\")\n",
    "    for i in similar_ids:\n",
    "        print(movie_titles.get(i, \"Movie not found\"))"
   ]
  },
  {
   "cell_type": "code",
   "execution_count": 45,
   "id": "58f2ed27-92a1-42f6-b59c-093c0398242d",
   "metadata": {},
   "outputs": [
    {
     "name": "stdout",
     "output_type": "stream",
     "text": [
      "Since you watched Twelve Monkeys (a.k.a. 12 Monkeys) (1995), you might also like:\n",
      "Pulp Fiction (1994)\n",
      "Terminator 2: Judgment Day (1991)\n",
      "Independence Day (a.k.a. ID4) (1996)\n",
      "Seven (a.k.a. Se7en) (1995)\n",
      "Fargo (1996)\n",
      "Fugitive, The (1993)\n",
      "Usual Suspects, The (1995)\n",
      "Jurassic Park (1993)\n",
      "Star Wars: Episode IV - A New Hope (1977)\n",
      "Heat (1995)\n"
     ]
    }
   ],
   "source": [
    "user_id = 150  # Replace with the desired user ID\n",
    "recommend_movies_for_user(user_id, X, user_mapper, movie_mapper, movie_inv_mapper, k=10)"
   ]
  },
  {
   "cell_type": "code",
   "execution_count": 46,
   "id": "35916e4f-7a50-43cf-a965-318cf3fd2e57",
   "metadata": {},
   "outputs": [
    {
     "name": "stdout",
     "output_type": "stream",
     "text": [
      "User with ID 2300 does not exist.\n"
     ]
    }
   ],
   "source": [
    "user_id = 2300  # Replace with the desired user ID\n",
    "recommend_movies_for_user(user_id, X, user_mapper, movie_mapper, movie_inv_mapper, k=10)"
   ]
  }
 ],
 "metadata": {
  "kernelspec": {
   "display_name": "Python 3 (ipykernel)",
   "language": "python",
   "name": "python3"
  },
  "language_info": {
   "codemirror_mode": {
    "name": "ipython",
    "version": 3
   },
   "file_extension": ".py",
   "mimetype": "text/x-python",
   "name": "python",
   "nbconvert_exporter": "python",
   "pygments_lexer": "ipython3",
   "version": "3.12.2"
  }
 },
 "nbformat": 4,
 "nbformat_minor": 5
}
